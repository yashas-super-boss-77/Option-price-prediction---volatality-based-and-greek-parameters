{
 "cells": [
  {
   "cell_type": "code",
   "execution_count": 2,
   "metadata": {},
   "outputs": [],
   "source": [
    "import pandas as pd\n",
    "import numpy as np\n",
    "import scipy.stats as ss\n",
    "import matplotlib.pyplot as plt\n",
    "%matplotlib inline\n",
    "\n",
    "import keras\n",
    "import tensorflow\n",
    "from keras.models import Sequential\n",
    "from keras.layers import Activation, Dense, Dropout, Flatten\n",
    "from keras import backend\n",
    "from keras.callbacks import EarlyStopping, ModelCheckpoint\n",
    "from sklearn.model_selection import train_test_split"
   ]
  },
  {
   "cell_type": "code",
   "execution_count": 3,
   "metadata": {},
   "outputs": [
    {
     "name": "stdout",
     "output_type": "stream",
     "text": [
      "2.11.0\n",
      "2.11.0\n"
     ]
    }
   ],
   "source": [
    "# Versioning\n",
    "print(keras.__version__)\n",
    "print(tensorflow.__version__)"
   ]
  },
  {
   "cell_type": "code",
   "execution_count": 4,
   "metadata": {},
   "outputs": [],
   "source": [
    "import csv\n",
    "with open('bank_50_option_365_CE.csv', 'r') as infile, open('output.csv', 'w', newline='') as outfile:\n",
    "    reader = csv.reader(infile)\n",
    "    writer = csv.writer(outfile)\n",
    "    delete_column = -1  # index of the column you want to delete\n",
    "    \n",
    "    for row in reader:\n",
    "        if row[delete_column] == '-':\n",
    "            del row[delete_column]\n",
    "        writer.writerow(row)"
   ]
  },
  {
   "cell_type": "code",
   "execution_count": 5,
   "metadata": {},
   "outputs": [
    {
     "data": {
      "text/html": [
       "<div>\n",
       "<style scoped>\n",
       "    .dataframe tbody tr th:only-of-type {\n",
       "        vertical-align: middle;\n",
       "    }\n",
       "\n",
       "    .dataframe tbody tr th {\n",
       "        vertical-align: top;\n",
       "    }\n",
       "\n",
       "    .dataframe thead th {\n",
       "        text-align: right;\n",
       "    }\n",
       "</style>\n",
       "<table border=\"1\" class=\"dataframe\">\n",
       "  <thead>\n",
       "    <tr style=\"text-align: right;\">\n",
       "      <th></th>\n",
       "      <th>Symbol</th>\n",
       "      <th>Date</th>\n",
       "      <th>Expiry</th>\n",
       "      <th>Option Type</th>\n",
       "      <th>Strike Price</th>\n",
       "      <th>Open</th>\n",
       "      <th>High</th>\n",
       "      <th>Low</th>\n",
       "      <th>Close</th>\n",
       "      <th>LTP</th>\n",
       "      <th>Settle Price</th>\n",
       "      <th>No. of contracts</th>\n",
       "      <th>Turnover in Lacs</th>\n",
       "      <th>Premium Turnover in Lacs</th>\n",
       "      <th>Open Int</th>\n",
       "      <th>Change in OI</th>\n",
       "      <th>Underlying Value</th>\n",
       "    </tr>\n",
       "  </thead>\n",
       "  <tbody>\n",
       "    <tr>\n",
       "      <th>5111</th>\n",
       "      <td>NIFTY</td>\n",
       "      <td>24-Mar-2023</td>\n",
       "      <td>29-Mar-2023</td>\n",
       "      <td>CE</td>\n",
       "      <td>16900</td>\n",
       "      <td>234.00</td>\n",
       "      <td>257.45</td>\n",
       "      <td>129.20</td>\n",
       "      <td>140.65</td>\n",
       "      <td>133.00</td>\n",
       "      <td>140.65</td>\n",
       "      <td>397943</td>\n",
       "      <td>3400663.40</td>\n",
       "      <td>38045.05</td>\n",
       "      <td>1646550</td>\n",
       "      <td>1045300</td>\n",
       "      <td>16945.05</td>\n",
       "    </tr>\n",
       "    <tr>\n",
       "      <th>5112</th>\n",
       "      <td>NIFTY</td>\n",
       "      <td>24-Mar-2023</td>\n",
       "      <td>29-Mar-2023</td>\n",
       "      <td>CE</td>\n",
       "      <td>16950</td>\n",
       "      <td>201.40</td>\n",
       "      <td>218.70</td>\n",
       "      <td>102.55</td>\n",
       "      <td>113.60</td>\n",
       "      <td>106.45</td>\n",
       "      <td>113.60</td>\n",
       "      <td>340873</td>\n",
       "      <td>2914599.78</td>\n",
       "      <td>25701.10</td>\n",
       "      <td>1129750</td>\n",
       "      <td>997250</td>\n",
       "      <td>16945.05</td>\n",
       "    </tr>\n",
       "    <tr>\n",
       "      <th>5113</th>\n",
       "      <td>NIFTY</td>\n",
       "      <td>24-Mar-2023</td>\n",
       "      <td>29-Mar-2023</td>\n",
       "      <td>CE</td>\n",
       "      <td>17000</td>\n",
       "      <td>159.90</td>\n",
       "      <td>182.25</td>\n",
       "      <td>79.10</td>\n",
       "      <td>88.95</td>\n",
       "      <td>83.00</td>\n",
       "      <td>88.95</td>\n",
       "      <td>2267633</td>\n",
       "      <td>19422969.04</td>\n",
       "      <td>148088.54</td>\n",
       "      <td>7990700</td>\n",
       "      <td>5288900</td>\n",
       "      <td>16945.05</td>\n",
       "    </tr>\n",
       "    <tr>\n",
       "      <th>5114</th>\n",
       "      <td>NIFTY</td>\n",
       "      <td>24-Mar-2023</td>\n",
       "      <td>29-Mar-2023</td>\n",
       "      <td>CE</td>\n",
       "      <td>17050</td>\n",
       "      <td>138.35</td>\n",
       "      <td>148.60</td>\n",
       "      <td>58.00</td>\n",
       "      <td>68.65</td>\n",
       "      <td>63.20</td>\n",
       "      <td>68.65</td>\n",
       "      <td>1619854</td>\n",
       "      <td>13897769.39</td>\n",
       "      <td>88514.04</td>\n",
       "      <td>2264950</td>\n",
       "      <td>1892650</td>\n",
       "      <td>16945.05</td>\n",
       "    </tr>\n",
       "    <tr>\n",
       "      <th>5115</th>\n",
       "      <td>NIFTY</td>\n",
       "      <td>24-Mar-2023</td>\n",
       "      <td>29-Mar-2023</td>\n",
       "      <td>CE</td>\n",
       "      <td>16700</td>\n",
       "      <td>402.70</td>\n",
       "      <td>429.90</td>\n",
       "      <td>270.10</td>\n",
       "      <td>289.25</td>\n",
       "      <td>278.40</td>\n",
       "      <td>289.25</td>\n",
       "      <td>14598</td>\n",
       "      <td>124481.00</td>\n",
       "      <td>2587.70</td>\n",
       "      <td>185650</td>\n",
       "      <td>69950</td>\n",
       "      <td>16945.05</td>\n",
       "    </tr>\n",
       "  </tbody>\n",
       "</table>\n",
       "</div>"
      ],
      "text/plain": [
       "     Symbol         Date       Expiry Option Type  Strike Price    Open  \\\n",
       "5111  NIFTY  24-Mar-2023  29-Mar-2023          CE         16900  234.00   \n",
       "5112  NIFTY  24-Mar-2023  29-Mar-2023          CE         16950  201.40   \n",
       "5113  NIFTY  24-Mar-2023  29-Mar-2023          CE         17000  159.90   \n",
       "5114  NIFTY  24-Mar-2023  29-Mar-2023          CE         17050  138.35   \n",
       "5115  NIFTY  24-Mar-2023  29-Mar-2023          CE         16700  402.70   \n",
       "\n",
       "        High     Low   Close     LTP  Settle Price  No. of contracts  \\\n",
       "5111  257.45  129.20  140.65  133.00        140.65            397943   \n",
       "5112  218.70  102.55  113.60  106.45        113.60            340873   \n",
       "5113  182.25   79.10   88.95   83.00         88.95           2267633   \n",
       "5114  148.60   58.00   68.65   63.20         68.65           1619854   \n",
       "5115  429.90  270.10  289.25  278.40        289.25             14598   \n",
       "\n",
       "      Turnover in Lacs  Premium Turnover in Lacs  Open Int  Change in OI  \\\n",
       "5111        3400663.40                  38045.05   1646550       1045300   \n",
       "5112        2914599.78                  25701.10   1129750        997250   \n",
       "5113       19422969.04                 148088.54   7990700       5288900   \n",
       "5114       13897769.39                  88514.04   2264950       1892650   \n",
       "5115         124481.00                   2587.70    185650         69950   \n",
       "\n",
       "      Underlying Value  \n",
       "5111          16945.05  \n",
       "5112          16945.05  \n",
       "5113          16945.05  \n",
       "5114          16945.05  \n",
       "5115          16945.05  "
      ]
     },
     "execution_count": 5,
     "metadata": {},
     "output_type": "execute_result"
    }
   ],
   "source": [
    "#Pandas DataFrame\n",
    "option_df = pd.read_csv(\"output.csv\")\n",
    "option_df.tail()"
   ]
  },
  {
   "cell_type": "code",
   "execution_count": 6,
   "metadata": {},
   "outputs": [],
   "source": [
    "option_df.drop(option_df.columns[[0,1,2,3,5,6,7,8,9,11,12,13,14,15]], axis=1,inplace=True)"
   ]
  },
  {
   "cell_type": "code",
   "execution_count": 7,
   "metadata": {},
   "outputs": [
    {
     "name": "stdout",
     "output_type": "stream",
     "text": [
      "      Strike Price  Settle Price  Underlying Value\n",
      "0            21000         27.85          18127.35\n",
      "1            22000         12.60          18127.35\n",
      "2            23000         12.90          18127.35\n",
      "3            24000          3.95          18127.35\n",
      "4            18000        797.05          18127.35\n",
      "...            ...           ...               ...\n",
      "5111         16900        140.65          16945.05\n",
      "5112         16950        113.60          16945.05\n",
      "5113         17000         88.95          16945.05\n",
      "5114         17050         68.65          16945.05\n",
      "5115         16700        289.25          16945.05\n",
      "\n",
      "[5116 rows x 3 columns]\n"
     ]
    }
   ],
   "source": [
    "print (option_df)"
   ]
  },
  {
   "cell_type": "code",
   "execution_count": 8,
   "metadata": {},
   "outputs": [],
   "source": [
    "option_df = option_df.rename(columns={'Strike Price':'strike', 'Settle Price':'Call price', 'Underlying Value':'Stock'})"
   ]
  },
  {
   "cell_type": "code",
   "execution_count": 9,
   "metadata": {},
   "outputs": [
    {
     "data": {
      "text/html": [
       "<div>\n",
       "<style scoped>\n",
       "    .dataframe tbody tr th:only-of-type {\n",
       "        vertical-align: middle;\n",
       "    }\n",
       "\n",
       "    .dataframe tbody tr th {\n",
       "        vertical-align: top;\n",
       "    }\n",
       "\n",
       "    .dataframe thead th {\n",
       "        text-align: right;\n",
       "    }\n",
       "</style>\n",
       "<table border=\"1\" class=\"dataframe\">\n",
       "  <thead>\n",
       "    <tr style=\"text-align: right;\">\n",
       "      <th></th>\n",
       "      <th>strike</th>\n",
       "      <th>Call price</th>\n",
       "      <th>Stock</th>\n",
       "    </tr>\n",
       "  </thead>\n",
       "  <tbody>\n",
       "    <tr>\n",
       "      <th>0</th>\n",
       "      <td>21000</td>\n",
       "      <td>27.85</td>\n",
       "      <td>18127.35</td>\n",
       "    </tr>\n",
       "    <tr>\n",
       "      <th>1</th>\n",
       "      <td>22000</td>\n",
       "      <td>12.60</td>\n",
       "      <td>18127.35</td>\n",
       "    </tr>\n",
       "    <tr>\n",
       "      <th>2</th>\n",
       "      <td>23000</td>\n",
       "      <td>12.90</td>\n",
       "      <td>18127.35</td>\n",
       "    </tr>\n",
       "    <tr>\n",
       "      <th>3</th>\n",
       "      <td>24000</td>\n",
       "      <td>3.95</td>\n",
       "      <td>18127.35</td>\n",
       "    </tr>\n",
       "    <tr>\n",
       "      <th>4</th>\n",
       "      <td>18000</td>\n",
       "      <td>797.05</td>\n",
       "      <td>18127.35</td>\n",
       "    </tr>\n",
       "    <tr>\n",
       "      <th>...</th>\n",
       "      <td>...</td>\n",
       "      <td>...</td>\n",
       "      <td>...</td>\n",
       "    </tr>\n",
       "    <tr>\n",
       "      <th>5111</th>\n",
       "      <td>16900</td>\n",
       "      <td>140.65</td>\n",
       "      <td>16945.05</td>\n",
       "    </tr>\n",
       "    <tr>\n",
       "      <th>5112</th>\n",
       "      <td>16950</td>\n",
       "      <td>113.60</td>\n",
       "      <td>16945.05</td>\n",
       "    </tr>\n",
       "    <tr>\n",
       "      <th>5113</th>\n",
       "      <td>17000</td>\n",
       "      <td>88.95</td>\n",
       "      <td>16945.05</td>\n",
       "    </tr>\n",
       "    <tr>\n",
       "      <th>5114</th>\n",
       "      <td>17050</td>\n",
       "      <td>68.65</td>\n",
       "      <td>16945.05</td>\n",
       "    </tr>\n",
       "    <tr>\n",
       "      <th>5115</th>\n",
       "      <td>16700</td>\n",
       "      <td>289.25</td>\n",
       "      <td>16945.05</td>\n",
       "    </tr>\n",
       "  </tbody>\n",
       "</table>\n",
       "<p>5116 rows × 3 columns</p>\n",
       "</div>"
      ],
      "text/plain": [
       "      strike  Call price     Stock\n",
       "0      21000       27.85  18127.35\n",
       "1      22000       12.60  18127.35\n",
       "2      23000       12.90  18127.35\n",
       "3      24000        3.95  18127.35\n",
       "4      18000      797.05  18127.35\n",
       "...      ...         ...       ...\n",
       "5111   16900      140.65  16945.05\n",
       "5112   16950      113.60  16945.05\n",
       "5113   17000       88.95  16945.05\n",
       "5114   17050       68.65  16945.05\n",
       "5115   16700      289.25  16945.05\n",
       "\n",
       "[5116 rows x 3 columns]"
      ]
     },
     "execution_count": 9,
     "metadata": {},
     "output_type": "execute_result"
    }
   ],
   "source": [
    "option_df"
   ]
  },
  {
   "cell_type": "code",
   "execution_count": 10,
   "metadata": {},
   "outputs": [],
   "source": [
    "option_df = option_df.astype({\"strike\":\"float\",\"Call price\":\"float\", \"Stock\":\"float\"})"
   ]
  },
  {
   "attachments": {},
   "cell_type": "markdown",
   "metadata": {},
   "source": [
    "Normalizing the data"
   ]
  },
  {
   "cell_type": "code",
   "execution_count": 11,
   "metadata": {},
   "outputs": [],
   "source": [
    "option_df['Stock'] = option_df['Stock'].div(option_df.strike)\n",
    "option_df['Call price'] = option_df['Call price'].div(option_df.strike)\n",
    "option_df['strike'] = 1\n"
   ]
  },
  {
   "cell_type": "code",
   "execution_count": 12,
   "metadata": {},
   "outputs": [],
   "source": [
    "## Move data into numpy array\n",
    "prices = option_df.values"
   ]
  },
  {
   "cell_type": "code",
   "execution_count": 13,
   "metadata": {},
   "outputs": [
    {
     "name": "stdout",
     "output_type": "stream",
     "text": [
      "1.0\n",
      "0.0013261904761904763\n",
      "0.8632071428571428\n"
     ]
    }
   ],
   "source": [
    "for i in prices:\n",
    "    for j in i:\n",
    "        print (j)\n",
    "    break"
   ]
  },
  {
   "cell_type": "code",
   "execution_count": 14,
   "metadata": {},
   "outputs": [],
   "source": [
    "# X values\n",
    "X = prices[:,np.r_[0,2]]\n",
    "\n",
    "# Y values \n",
    "y = prices[:,1]\n",
    "\n",
    "# # Use Sklearn library to randomly split data into training/testing set\n",
    "x_train, x_test, y_train, y_test = train_test_split(X, y, test_size=0.2, random_state=42)"
   ]
  },
  {
   "cell_type": "code",
   "execution_count": 15,
   "metadata": {},
   "outputs": [
    {
     "name": "stdout",
     "output_type": "stream",
     "text": [
      "[0.00132619 0.00057273 0.00056087 ... 0.00523235 0.00402639 0.01732036]\n"
     ]
    }
   ],
   "source": [
    "print (y)"
   ]
  },
  {
   "cell_type": "code",
   "execution_count": 29,
   "metadata": {},
   "outputs": [],
   "source": [
    "from tensorflow.keras.layers import Flatten\n",
    "\n",
    "model = Sequential()\n",
    "model.add(Flatten())  # This function flattens the input data\n",
    "\n",
    "# Feel free to play around with different parameters here like number of units in each layer or switching the activation function or increasing/decreasing the number of layers.\n",
    "model.add(Dense(512, activation='relu'))    \n",
    "\n",
    "model.add(Dense(256, activation='relu')) \n",
    "\n",
    "model.add(Dense(128, activation='relu'))\n",
    "\n",
    "model.add(Dense(64, activation='relu'))\n",
    "\n",
    "model.add(Dense(1, activation='softmax'))   # The number of units in the last layer should always be the number of classes in which we have to classify our input data."
   ]
  },
  {
   "cell_type": "code",
   "execution_count": 30,
   "metadata": {},
   "outputs": [],
   "source": [
    "model.compile(optimizer='adam',\n",
    "              loss='categorical_crossentropy',\n",
    "              metrics=['accuracy'])"
   ]
  },
  {
   "cell_type": "code",
   "execution_count": 31,
   "metadata": {},
   "outputs": [
    {
     "name": "stdout",
     "output_type": "stream",
     "text": [
      "128/128 [==============================] - 0s 2ms/step - loss: nan - accuracy: 0.0061\n",
      "32/32 [==============================] - 0s 2ms/step - loss: nan - accuracy: 0.0039\n",
      "Train: 0.006, Test: 0.004\n"
     ]
    }
   ],
   "source": [
    "batch_size = 128\n",
    "epochs = 50\n",
    "\n",
    "history = model.fit(x=x_train, y=y_train, batch_size=batch_size, epochs=epochs, verbose=0, validation_data=(x_test, y_test))  # You can set verbose to 1 to get the status of your model training, 2 to get one line per epoch, here I kept it 0 to keep the notebook precise. \n",
    "\n",
    "_, train_acc = model.evaluate(x_train, y_train, verbose=1)\n",
    "_, test_acc = model.evaluate(x_test, y_test, verbose=1)\n",
    "print('Train: %.3f, Test: %.3f' % (train_acc, test_acc))"
   ]
  },
  {
   "cell_type": "code",
   "execution_count": 139,
   "metadata": {},
   "outputs": [
    {
     "ename": "AttributeError",
     "evalue": "'History' object has no attribute 'summary'",
     "output_type": "error",
     "traceback": [
      "\u001b[1;31m---------------------------------------------------------------------------\u001b[0m",
      "\u001b[1;31mAttributeError\u001b[0m                            Traceback (most recent call last)",
      "Cell \u001b[1;32mIn[139], line 1\u001b[0m\n\u001b[1;32m----> 1\u001b[0m history\u001b[39m.\u001b[39;49msummary()\n",
      "\u001b[1;31mAttributeError\u001b[0m: 'History' object has no attribute 'summary'"
     ]
    }
   ],
   "source": [
    "history.summary()"
   ]
  },
  {
   "cell_type": "code",
   "execution_count": 130,
   "metadata": {},
   "outputs": [],
   "source": [
    "callbacks_list = [EarlyStopping(monitor = 'val_loss', patience = 1)]"
   ]
  },
  {
   "cell_type": "code",
   "execution_count": 131,
   "metadata": {},
   "outputs": [
    {
     "name": "stdout",
     "output_type": "stream",
     "text": [
      "Epoch 1/10\n",
      "29/29 - 1s - loss: nan - val_loss: nan - 1s/epoch - 35ms/step\n",
      "Epoch 2/10\n",
      "29/29 - 0s - loss: nan - val_loss: nan - 232ms/epoch - 8ms/step\n"
     ]
    },
    {
     "data": {
      "text/plain": [
       "<keras.callbacks.History at 0x25e358ed420>"
      ]
     },
     "execution_count": 131,
     "metadata": {},
     "output_type": "execute_result"
    }
   ],
   "source": [
    "model.fit(X_train, y_train, epochs = 10, batch_size = 128, validation_split = 0.1, verbose = 2, callbacks = callbacks_list)"
   ]
  },
  {
   "cell_type": "code",
   "execution_count": 132,
   "metadata": {},
   "outputs": [
    {
     "name": "stdout",
     "output_type": "stream",
     "text": [
      "32/32 [==============================] - 0s 2ms/step\n"
     ]
    }
   ],
   "source": [
    "predictions = model.predict(X_test)"
   ]
  },
  {
   "cell_type": "code",
   "execution_count": 133,
   "metadata": {},
   "outputs": [
    {
     "data": {
      "image/png": "[encoded data removed]",
      "text/plain": [
       "<Figure size 1500x1000 with 1 Axes>"
      ]
     },
     "metadata": {},
     "output_type": "display_data"
    }
   ],
   "source": [
    "plt.figure(figsize = (15,10))\n",
    "plt.scatter(y_test, predictions)\n",
    "plt.xlabel(\"Actual Price\")\n",
    "plt.ylabel(\"Predicted Price\")\n",
    "plt.plot([0,1], [0,1], 'r')\n",
    "plt.grid(True)"
   ]
  },
  {
   "cell_type": "code",
   "execution_count": 69,
   "metadata": {},
   "outputs": [
    {
     "data": {
      "text/plain": [
       "array([[1.69500000e+04, 8.22212389e-02, 6.21625290e-05, 1.00000000e+00],\n",
       "       [1.78000000e+04, 1.88202247e-04,            nan, 1.00000000e+00],\n",
       "       [1.87000000e+04, 8.28877005e-05, 4.90488719e-05, 1.00000000e+00],\n",
       "       ...,\n",
       "       [1.74500000e+04, 6.55386819e-02, 5.94669994e-05, 1.00000000e+00],\n",
       "       [1.92000000e+04, 2.23958333e-04, 4.81618924e-05, 1.00000000e+00],\n",
       "       [2.00000000e+04, 4.50000000e-05, 4.23626250e-05, 1.00000000e+00]])"
      ]
     },
     "execution_count": 69,
     "metadata": {},
     "output_type": "execute_result"
    }
   ],
   "source": [
    "X_test"
   ]
  },
  {
   "cell_type": "code",
   "execution_count": 134,
   "metadata": {},
   "outputs": [
    {
     "data": {
      "text/plain": [
       "array([[nan],\n",
       "       [nan],\n",
       "       [nan],\n",
       "       ...,\n",
       "       [nan],\n",
       "       [nan],\n",
       "       [nan]], dtype=float32)"
      ]
     },
     "execution_count": 134,
     "metadata": {},
     "output_type": "execute_result"
    }
   ],
   "source": [
    "predictions"
   ]
  },
  {
   "cell_type": "code",
   "execution_count": null,
   "metadata": {},
   "outputs": [],
   "source": []
  }
 ],
 "metadata": {
  "kernelspec": {
   "display_name": "Python 3",
   "language": "python",
   "name": "python3"
  },
  "language_info": {
   "codemirror_mode": {
    "name": "ipython",
    "version": 3
   },
   "file_extension": ".py",
   "mimetype": "text/x-python",
   "name": "python",
   "nbconvert_exporter": "python",
   "pygments_lexer": "ipython3",
   "version": "3.10.10"
  },
  "orig_nbformat": 4
 },
 "nbformat": 4,
 "nbformat_minor": 2
}
